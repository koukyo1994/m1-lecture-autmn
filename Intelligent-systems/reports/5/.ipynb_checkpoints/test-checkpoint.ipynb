{
 "cells": [
  {
   "cell_type": "code",
   "execution_count": 1,
   "metadata": {},
   "outputs": [],
   "source": [
    "using Plots"
   ]
  },
  {
   "cell_type": "code",
   "execution_count": 2,
   "metadata": {},
   "outputs": [
    {
     "data": {
      "text/plain": [
       "df (generic function with 1 method)"
      ]
     },
     "execution_count": 2,
     "metadata": {},
     "output_type": "execute_result"
    }
   ],
   "source": [
    "f(x, y) = 10x^2 + y^2\n",
    "df(x) = [20x[1], 2x[2]]"
   ]
  },
  {
   "cell_type": "code",
   "execution_count": 3,
   "metadata": {},
   "outputs": [
    {
     "data": {
      "text/plain": [
       "backtrack (generic function with 1 method)"
      ]
     },
     "execution_count": 3,
     "metadata": {},
     "output_type": "execute_result"
    }
   ],
   "source": [
    "function backtrack(x, epsilon, alpha, beta)\n",
    "    x_new = x - epsilon .* df(x)\n",
    "    while f(x_new[1], x_new[2]) - f(x[1], x[2]) > -alpha * epsilon * sum(df(x).^2)\n",
    "        epsilon *= beta\n",
    "        x_new = x - epsilon .* df(x)\n",
    "    end\n",
    "    x_new\n",
    "end"
   ]
  },
  {
   "cell_type": "code",
   "execution_count": 17,
   "metadata": {},
   "outputs": [
    {
     "data": {
      "text/plain": [
       "2-element Array{Float64,1}:\n",
       " 0.0\n",
       " 0.0"
      ]
     },
     "execution_count": 17,
     "metadata": {},
     "output_type": "execute_result"
    }
   ],
   "source": [
    "x = y = range(-5, stop=5, length=100)\n",
    "niter = 10\n",
    "position = 10 * rand(2) .- 5\n",
    "epsilon = 1.0\n",
    "alpha = 0.5\n",
    "beta = 0.8\n",
    "previous = [0.0, 0.0]"
   ]
  },
  {
   "cell_type": "code",
   "execution_count": 18,
   "metadata": {},
   "outputs": [],
   "source": [
    "p = plot(x, y, f, st=[:contourf])\n",
    "for i in 1:niter\n",
    "    previous = copy(position)\n",
    "    position = backtrack(position, epsilon, alpha, beta)\n",
    "    plot!(\n",
    "        p[1], \n",
    "        [previous[1], position[1]], \n",
    "        [previous[2], position[2]], \n",
    "        line=(:white, 1), \n",
    "        legend=:none,\n",
    "        annotations=(position[1], position[2], text(\"$(i)\", 10, :center, :white))\n",
    "    )\n",
    "end\n",
    "png(\"optim\")"
   ]
  },
  {
   "cell_type": "code",
   "execution_count": 6,
   "metadata": {},
   "outputs": [],
   "source": []
  }
 ],
 "metadata": {
  "kernelspec": {
   "display_name": "Julia 1.0.0",
   "language": "julia",
   "name": "julia-1.0"
  },
  "language_info": {
   "file_extension": ".jl",
   "mimetype": "application/julia",
   "name": "julia",
   "version": "1.0.0"
  }
 },
 "nbformat": 4,
 "nbformat_minor": 2
}
