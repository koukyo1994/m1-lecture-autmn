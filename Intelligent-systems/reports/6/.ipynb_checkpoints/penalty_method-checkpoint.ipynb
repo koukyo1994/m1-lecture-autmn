{
 "cells": [
  {
   "cell_type": "code",
   "execution_count": 30,
   "metadata": {},
   "outputs": [],
   "source": [
    "using Plots\n",
    "using Printf"
   ]
  },
  {
   "cell_type": "code",
   "execution_count": 46,
   "metadata": {},
   "outputs": [
    {
     "data": {
      "text/plain": [
       "dL (generic function with 1 method)"
      ]
     },
     "execution_count": 46,
     "metadata": {},
     "output_type": "execute_result"
    }
   ],
   "source": [
    "f(x, y) = 3x^2 + 2y^2\n",
    "h(x, y) = 1 - x - y\n",
    "dL(x, c) = [6x[1] - c / (x[1] + x[2] - 1), 4x[2] - c / (x[1] + x[2] - 1)]"
   ]
  },
  {
   "cell_type": "code",
   "execution_count": 47,
   "metadata": {},
   "outputs": [
    {
     "data": {
      "text/plain": [
       "BFGS (generic function with 2 methods)"
      ]
     },
     "execution_count": 47,
     "metadata": {},
     "output_type": "execute_result"
    }
   ],
   "source": [
    "function BFGS(x, c, epsilon)\n",
    "    Hinv = [1 0; 0 1]\n",
    "    xold = copy(x)\n",
    "    xnew = xold - 0.01 .* Hinv * dL(xold, c)\n",
    "    while sum((xnew - xold).^2) > epsilon\n",
    "        s = xnew - xold\n",
    "        t = dL(xnew, c) - dL(xold, c)\n",
    "        xold = copy(xnew)\n",
    "        Hinv = (\n",
    "            Hinv + (s' * t + t' * Hinv * t) * s * s' ./ (s' * t)^2 -\n",
    "            (Hinv * t * s' + s * t' * Hinv) ./ (s' * t)\n",
    "        )\n",
    "        xnew = xold - 0.01 .* Hinv * dL(xold, c)\n",
    "    end\n",
    "    xnew\n",
    "end"
   ]
  },
  {
   "cell_type": "markdown",
   "metadata": {},
   "source": [
    "## BFGSの正当性チェック"
   ]
  },
  {
   "cell_type": "code",
   "execution_count": 49,
   "metadata": {},
   "outputs": [
    {
     "data": {
      "text/plain": [
       "2-element Array{Float64,1}:\n",
       " -3.688358824660607 \n",
       "  1.7337900266387773"
      ]
     },
     "execution_count": 49,
     "metadata": {},
     "output_type": "execute_result"
    }
   ],
   "source": [
    "df(x) = [10x[1], 2x[2]]\n",
    "pos = 10 .* rand(2) .- 5"
   ]
  },
  {
   "cell_type": "code",
   "execution_count": 50,
   "metadata": {},
   "outputs": [
    {
     "data": {
      "text/plain": [
       "BFGS (generic function with 3 methods)"
      ]
     },
     "execution_count": 50,
     "metadata": {},
     "output_type": "execute_result"
    }
   ],
   "source": [
    "function BFGS(x, epsilon)\n",
    "    Hinv = [1 0; 0 1]\n",
    "    xold = copy(x)\n",
    "    xnew = xold - Hinv * df(x)\n",
    "    while sqrt(sum((xnew - xold).^2)) > epsilon\n",
    "        s = xnew - xold\n",
    "        t = df(xnew) - df(xold)\n",
    "        xold = copy(xnew)\n",
    "        Hinv = (\n",
    "            Hinv + (s' * t + t' * Hinv * t) * s * s' ./ (s' * t)^2 -\n",
    "            (Hinv * t * s' + s * t' * Hinv) ./ (s' * t)\n",
    "        )\n",
    "        xnew = xold - Hinv * df(xold)\n",
    "    end\n",
    "    xnew\n",
    "end"
   ]
  },
  {
   "cell_type": "code",
   "execution_count": 25,
   "metadata": {},
   "outputs": [
    {
     "data": {
      "text/plain": [
       "2-element Array{Float64,1}:\n",
       "  1.1287416632089007e-12\n",
       " -3.4080913071973092e-15"
      ]
     },
     "execution_count": 25,
     "metadata": {},
     "output_type": "execute_result"
    }
   ],
   "source": [
    "BFGS(pos, 1e-6)"
   ]
  },
  {
   "cell_type": "markdown",
   "metadata": {},
   "source": [
    "## Barrier Method"
   ]
  },
  {
   "cell_type": "code",
   "execution_count": 51,
   "metadata": {},
   "outputs": [
    {
     "data": {
      "text/plain": [
       "barrier (generic function with 1 method)"
      ]
     },
     "execution_count": 51,
     "metadata": {},
     "output_type": "execute_result"
    }
   ],
   "source": [
    "function barrier(x, eps_barrier, eps_bfgs)\n",
    "    xtrail = []\n",
    "    ytrail = []\n",
    "    append!(xtrail, x[1])\n",
    "    append!(ytrail, x[2])\n",
    "\n",
    "    xold = copy(x)\n",
    "    xnew = BFGS(xold, 100.0, eps_bfgs)\n",
    "    append!(xtrail, xnew[1])\n",
    "    append!(ytrail, xnew[2])\n",
    "    c = 1.0\n",
    "    while sum((xnew - xold).^2) > eps_barrier\n",
    "        c += 1.0\n",
    "        xold = copy(xnew)\n",
    "        xnew = BFGS(xold, 100. / c, eps_bfgs)\n",
    "        append!(xtrail, xnew[1])\n",
    "        append!(ytrail, xnew[2])\n",
    "    end\n",
    "    xtrail, ytrail\n",
    "end"
   ]
  },
  {
   "cell_type": "code",
   "execution_count": 52,
   "metadata": {},
   "outputs": [
    {
     "data": {
      "text/plain": [
       "2-element Array{Float64,1}:\n",
       " 1.0\n",
       " 1.0"
      ]
     },
     "execution_count": 52,
     "metadata": {},
     "output_type": "execute_result"
    }
   ],
   "source": [
    "eps_barrier = 1e-10\n",
    "eps_bfgs = 1e-16\n",
    "x = [1., 1.]"
   ]
  },
  {
   "cell_type": "code",
   "execution_count": 53,
   "metadata": {},
   "outputs": [
    {
     "data": {
      "text/plain": [
       "(Any[1.0, 2.78972, 2.03666, 1.70407, 1.5064, 1.37189, 1.2729, 1.19618, 1.13452, 1.0836  …  0.409657, 0.409652, 0.409646, 0.40964, 0.409635, 0.409629, 0.409624, 0.409618, 0.409613, 0.409607], Any[1.0, 4.18458, 3.055, 2.5561, 2.25959, 2.05784, 1.90935, 1.79428, 1.70179, 1.62539  …  0.614486, 0.614478, 0.61447, 0.614461, 0.614453, 0.614445, 0.614436, 0.614428, 0.61442, 0.614411])"
      ]
     },
     "execution_count": 53,
     "metadata": {},
     "output_type": "execute_result"
    }
   ],
   "source": [
    "xtrail, ytrail = barrier(x, eps_barrier, eps_bfgs)"
   ]
  },
  {
   "cell_type": "code",
   "execution_count": 212,
   "metadata": {},
   "outputs": [],
   "source": [
    "x = y = range(-4.0, 4.0, length=1000)\n",
    "p = plot(x, y, f, st=[:contourf])\n",
    "for i in 1:length(xtrail)-1\n",
    "    plot!(p[1], [xtrail[i], xtrail[i+1]], [ytrail[i], ytrail[i+1]], line=(:white, 1), legend=:none)\n",
    "end\n",
    "posx = @sprintf \"%.2f\" xtrail[end]\n",
    "posy = @sprintf \"%.2f\" ytrail[end]\n",
    "annotate!(xtrail[end], ytrail[end], text(\"($(posx), $(posy))\", 10, :center, :white))\n",
    "png(\"barrier\")"
   ]
  },
  {
   "cell_type": "code",
   "execution_count": 208,
   "metadata": {},
   "outputs": [
    {
     "data": {
      "text/plain": [
       "\"0.61\""
      ]
     },
     "execution_count": 208,
     "metadata": {},
     "output_type": "execute_result"
    }
   ],
   "source": [
    "@sprintf \"%.2f\" ytrail[end]"
   ]
  },
  {
   "cell_type": "markdown",
   "metadata": {},
   "source": [
    "## Penalty Method"
   ]
  },
  {
   "cell_type": "code",
   "execution_count": 11,
   "metadata": {},
   "outputs": [
    {
     "data": {
      "text/plain": [
       "BFGS (generic function with 1 method)"
      ]
     },
     "execution_count": 11,
     "metadata": {},
     "output_type": "execute_result"
    }
   ],
   "source": [
    "function BFGS(x, epsilon, f, c...)\n",
    "    Hinv = [1 0; 0 1]\n",
    "    xold = copy(x)\n",
    "    df = ifelse(length(c) == 0, f(xold, 0), f(xold, c[1]))\n",
    "    xnew = xold - 0.01 .* Hinv * df\n",
    "    while sum((xnew - xold).^2) > epsilon\n",
    "        s = xnew - xold\n",
    "        t = ifelse(length(c) == 0, f(xnew, 0) - f(xold, 0), f(xnew, c[1]) - f(xold, c[1]))\n",
    "        xold = copy(xnew)\n",
    "        Hinv = (\n",
    "            Hinv + (s' * t + t' * Hinv * t) * s * s' ./ (s' * t)^2 -\n",
    "            (Hinv * t * s' + s * t' * Hinv) ./ (s' * t)\n",
    "        )\n",
    "        df = ifelse(length(c) == 0, f(xold, 0), f(xold, c[1]))\n",
    "        xnew = xold - 0.01 .* Hinv * df\n",
    "    end\n",
    "    xnew\n",
    "end"
   ]
  },
  {
   "cell_type": "code",
   "execution_count": 12,
   "metadata": {},
   "outputs": [
    {
     "data": {
      "text/plain": [
       "nablaL (generic function with 1 method)"
      ]
     },
     "execution_count": 12,
     "metadata": {},
     "output_type": "execute_result"
    }
   ],
   "source": [
    "h(x, y) = 1 - x - y\n",
    "nablaL(x, c) = [\n",
    "    6x[1] + c * ifelse(max(h(x[1], x[2]), 0) == 0, 0, -2 * h(x[1], x[2])),\n",
    "    4x[2] + c * ifelse(max(h(x[1], x[2]), 0) == 0, 0, -2 * h(x[1], x[2]))\n",
    "]"
   ]
  },
  {
   "cell_type": "code",
   "execution_count": 35,
   "metadata": {},
   "outputs": [
    {
     "data": {
      "text/plain": [
       "penalty (generic function with 1 method)"
      ]
     },
     "execution_count": 35,
     "metadata": {},
     "output_type": "execute_result"
    }
   ],
   "source": [
    "function penalty(x, eps_penalty, eps_bfgs)\n",
    "    xtrail = []\n",
    "    ytrail = []\n",
    "    append!(xtrail, x[1])\n",
    "    append!(ytrail, x[2])\n",
    "\n",
    "    xold = copy(x)\n",
    "    c = 1\n",
    "    xnew = BFGS(xold, eps_bfgs, nablaL, c)\n",
    "    append!(xtrail, xnew[1])\n",
    "    append!(ytrail, xnew[2])\n",
    "    while sum((xnew - xold).^2) > eps_penalty\n",
    "        c *= 1.01\n",
    "        xold = copy(xnew)\n",
    "        xnew = BFGS(xold, eps_bfgs, nablaL, c)\n",
    "        append!(xtrail, xnew[1])\n",
    "        append!(ytrail, xnew[2])\n",
    "    end\n",
    "    xtrail, ytrail\n",
    "end"
   ]
  },
  {
   "cell_type": "code",
   "execution_count": 42,
   "metadata": {},
   "outputs": [
    {
     "data": {
      "text/plain": [
       "2-element Array{Float64,1}:\n",
       " 1.0\n",
       " 1.0"
      ]
     },
     "execution_count": 42,
     "metadata": {},
     "output_type": "execute_result"
    }
   ],
   "source": [
    "eps_penalty = 1e-9\n",
    "eps_bfgs = 1e-16\n",
    "x = [1., 1.]"
   ]
  },
  {
   "cell_type": "code",
   "execution_count": 43,
   "metadata": {},
   "outputs": [
    {
     "data": {
      "text/plain": [
       "(Any[1.0, 0.181819, 0.182805, 0.183793, 0.184782, 0.185772, 0.186762, 0.187753, 0.188744, 0.189737  …  0.398092, 0.398111, 0.398129, 0.398148, 0.398166, 0.398184, 0.398202, 0.39822, 0.398237, 0.398255], Any[1.0, 0.272728, 0.274207, 0.275689, 0.277173, 0.278657, 0.280143, 0.281629, 0.283117, 0.284605  …  0.597137, 0.597165, 0.597193, 0.597221, 0.597248, 0.597276, 0.597302, 0.597329, 0.597355, 0.597381])"
      ]
     },
     "execution_count": 43,
     "metadata": {},
     "output_type": "execute_result"
    }
   ],
   "source": [
    "xtrail, ytrail = penalty(x, eps_penalty, eps_bfgs)"
   ]
  },
  {
   "cell_type": "code",
   "execution_count": 44,
   "metadata": {},
   "outputs": [
    {
     "data": {
      "text/plain": [
       "f (generic function with 1 method)"
      ]
     },
     "execution_count": 44,
     "metadata": {},
     "output_type": "execute_result"
    }
   ],
   "source": [
    "f(x, y) = 3x^2 + 2y^2"
   ]
  },
  {
   "cell_type": "code",
   "execution_count": 45,
   "metadata": {},
   "outputs": [],
   "source": [
    "x = y = range(-1.0, 1.0, length=1000)\n",
    "p = plot(x, y, f, st=[:contourf])\n",
    "for i in 1:length(xtrail)-1\n",
    "    plot!(p[1], [xtrail[i], xtrail[i+1]], [ytrail[i], ytrail[i+1]], line=(:white, 1), legend=:none)\n",
    "end\n",
    "posx = @sprintf \"%.2f\" xtrail[end]\n",
    "posy = @sprintf \"%.2f\" ytrail[end]\n",
    "annotate!(xtrail[end], ytrail[end], text(\"($(posx), $(posy))\", 10, :center, :white))\n",
    "png(\"penalty\")"
   ]
  },
  {
   "cell_type": "code",
   "execution_count": null,
   "metadata": {},
   "outputs": [],
   "source": []
  }
 ],
 "metadata": {
  "kernelspec": {
   "display_name": "Julia 1.0.0",
   "language": "julia",
   "name": "julia-1.0"
  },
  "language_info": {
   "file_extension": ".jl",
   "mimetype": "application/julia",
   "name": "julia",
   "version": "1.0.0"
  }
 },
 "nbformat": 4,
 "nbformat_minor": 2
}
