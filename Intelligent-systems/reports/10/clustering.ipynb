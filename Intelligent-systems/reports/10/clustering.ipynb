{
 "cells": [
  {
   "cell_type": "markdown",
   "metadata": {},
   "source": [
    "## PCA"
   ]
  },
  {
   "cell_type": "code",
   "execution_count": 145,
   "metadata": {},
   "outputs": [
    {
     "name": "stderr",
     "output_type": "stream",
     "text": [
      "┌ Info: Recompiling stale cache file /Users/hidehisa/.julia/compiled/v1.0/Plots/ld3vC.ji for Plots [91a5bcdd-55d7-5caf-9e0b-520d859cae80]\n",
      "└ @ Base loading.jl:1190\n",
      "WARNING: using Plots.center in module Main conflicts with an existing identifier.\n"
     ]
    }
   ],
   "source": [
    "using LinearAlgebra\n",
    "using Flux.Data.MNIST\n",
    "using Plots"
   ]
  },
  {
   "cell_type": "code",
   "execution_count": 46,
   "metadata": {},
   "outputs": [
    {
     "data": {
      "text/plain": [
       "PCA (generic function with 1 method)"
      ]
     },
     "execution_count": 46,
     "metadata": {},
     "output_type": "execute_result"
    }
   ],
   "source": [
    "function PCA(X, m)\n",
    "    d = size(X)[1]\n",
    "    n = size(X)[2]\n",
    "    C = zeros((d, d))\n",
    "    for i in 1:n\n",
    "        C += X[:, i] * X[:, i]'\n",
    "    end\n",
    "\n",
    "    eigs = eigen(C)\n",
    "    T = zeros((m, d))\n",
    "    last = d - m + 1\n",
    "    for (i, j) in enumerate(d:-1:last)\n",
    "        vec = eigs.vectors[:, j]\n",
    "        T[i, :] = vec'\n",
    "    end\n",
    "    T * X\n",
    "end"
   ]
  },
  {
   "cell_type": "code",
   "execution_count": 51,
   "metadata": {},
   "outputs": [
    {
     "data": {
      "text/plain": [
       "2×10000 Array{Float64,2}:\n",
       " 4.21304   5.35283   2.58519   8.85142  …  7.57268  5.95091   8.7352 \n",
       " 0.94335  -0.531278  2.17549  -3.88506     2.69419  1.43468  -3.66821"
      ]
     },
     "execution_count": 51,
     "metadata": {},
     "output_type": "execute_result"
    }
   ],
   "source": [
    "imgs = MNIST.images(:test)\n",
    "X = hcat(float.(vec.(imgs))...)\n",
    "X_pca = PCA(X, 2)"
   ]
  },
  {
   "cell_type": "markdown",
   "metadata": {},
   "source": [
    "## KMeans"
   ]
  },
  {
   "cell_type": "code",
   "execution_count": 143,
   "metadata": {},
   "outputs": [
    {
     "data": {
      "text/plain": [
       "KMeans (generic function with 2 methods)"
      ]
     },
     "execution_count": 143,
     "metadata": {},
     "output_type": "execute_result"
    }
   ],
   "source": [
    "function converged(array, tol)\n",
    "    mean = 0.0\n",
    "    for i in 1:length(array)\n",
    "        mean += sum(array[i].^2)\n",
    "    end\n",
    "    mean < tol\n",
    "end\n",
    "\n",
    "\n",
    "function calc_center(X)\n",
    "    n = size(X)[2]\n",
    "    ret = [0, 0]\n",
    "    for i in 1:n\n",
    "        ret += X[:, i]\n",
    "    end\n",
    "    ret ./ n\n",
    "end\n",
    "\n",
    "\n",
    "function KMeans(X, c, tol=1e-5)\n",
    "    d = size(X)[1]\n",
    "    n = size(X)[2]\n",
    "    centers = [rand(2,1) for _ in 1:c]\n",
    "    before = [[100, 100] for _ in 1:c]\n",
    "    cpreds = zeros(n)\n",
    "    while !converged(before - centers, tol)\n",
    "        for i in 1:n\n",
    "            norms = [sum((X[:, i] - center).^2) for center in centers]\n",
    "            label = argmin(norms)\n",
    "            cpreds[i] = label\n",
    "        end\n",
    "        before = centers\n",
    "        idxs = [findall(cpreds .== i) for i in 1:c]\n",
    "        centers = [ifelse(X[idx] != [], calc_center(X[:, idx]), before[i]) for (i, idx) in enumerate(idxs)]\n",
    "    end\n",
    "    return centers, cpreds\n",
    "end"
   ]
  },
  {
   "cell_type": "code",
   "execution_count": 146,
   "metadata": {},
   "outputs": [
    {
     "data": {
      "text/plain": [
       "(Array{Float64,1}[[7.54484, -1.31615], [4.48019, 0.696349], [6.21759, 0.635575], [8.85981, -4.78443], [5.17758, -1.24386], [5.53064, 2.64259], [7.75908, 1.71639], [5.97506, -3.58853], [3.45779, 2.21392], [9.71095, -0.0979869]], [2.0, 5.0, 9.0, 4.0, 5.0, 9.0, 2.0, 2.0, 1.0, 7.0  …  6.0, 10.0, 1.0, 4.0, 6.0, 10.0, 1.0, 7.0, 3.0, 4.0])"
      ]
     },
     "execution_count": 146,
     "metadata": {},
     "output_type": "execute_result"
    }
   ],
   "source": [
    "centers, cpreds = KMeans(X_pca, 10)"
   ]
  },
  {
   "cell_type": "markdown",
   "metadata": {},
   "source": [
    "## Plotting"
   ]
  },
  {
   "cell_type": "code",
   "execution_count": 149,
   "metadata": {},
   "outputs": [],
   "source": [
    "p = plot(xlabel=\"x\", ylabel=\"y\", title=\"Compressed image of MNIST\")\n",
    "colors = [:green, :blue, :red, :yellow, :pink, :black, :gold, :silver, :brown, :purple]\n",
    "for (i, c) in enumerate(colors)\n",
    "    idx = findall(cpreds .== i)\n",
    "    scatter!(X_pca[1, idx], X_pca[2, idx], color=c, label=string(i))\n",
    "end\n",
    "png(\"scatter\")"
   ]
  },
  {
   "cell_type": "code",
   "execution_count": 150,
   "metadata": {},
   "outputs": [
    {
     "data": {
      "text/plain": [
       "10000-element Array{Int64,1}:\n",
       " 7\n",
       " 2\n",
       " 1\n",
       " 0\n",
       " 4\n",
       " 1\n",
       " 4\n",
       " 9\n",
       " 5\n",
       " 9\n",
       " 0\n",
       " 6\n",
       " 9\n",
       " ⋮\n",
       " 5\n",
       " 6\n",
       " 7\n",
       " 8\n",
       " 9\n",
       " 0\n",
       " 1\n",
       " 2\n",
       " 3\n",
       " 4\n",
       " 5\n",
       " 6"
      ]
     },
     "execution_count": 150,
     "metadata": {},
     "output_type": "execute_result"
    }
   ],
   "source": [
    "labels = MNIST.labels(:test)"
   ]
  },
  {
   "cell_type": "code",
   "execution_count": 151,
   "metadata": {},
   "outputs": [],
   "source": [
    "p = plot(xlabel=\"x\", ylabel=\"y\", title=\"Compressed image of MNIST with true label\")\n",
    "colors = [:green, :blue, :red, :yellow, :pink, :black, :gold, :silver, :brown, :purple]\n",
    "for (i, c) in enumerate(colors)\n",
    "    idx = findall(labels .== i)\n",
    "    scatter!(X_pca[1, idx], X_pca[2, idx], color=c, label=string(i))\n",
    "end\n",
    "png(\"scatter_true\")"
   ]
  },
  {
   "cell_type": "code",
   "execution_count": null,
   "metadata": {},
   "outputs": [],
   "source": []
  }
 ],
 "metadata": {
  "kernelspec": {
   "display_name": "Julia 1.0.0",
   "language": "julia",
   "name": "julia-1.0"
  },
  "language_info": {
   "file_extension": ".jl",
   "mimetype": "application/julia",
   "name": "julia",
   "version": "1.0.2"
  }
 },
 "nbformat": 4,
 "nbformat_minor": 2
}
