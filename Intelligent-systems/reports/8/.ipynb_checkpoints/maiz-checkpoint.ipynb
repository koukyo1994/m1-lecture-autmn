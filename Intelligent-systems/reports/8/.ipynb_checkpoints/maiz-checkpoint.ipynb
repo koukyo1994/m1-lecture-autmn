{
 "cells": [
  {
   "cell_type": "markdown",
   "metadata": {},
   "source": [
    "## Define Maiz "
   ]
  },
  {
   "cell_type": "code",
   "execution_count": 28,
   "metadata": {},
   "outputs": [
    {
     "data": {
      "text/plain": [
       "10×10 Array{Int64,2}:\n",
       " 0  1  0  2  0  0  0  0  0  0\n",
       " 1  0  2  0  0  0  0  0  0  0\n",
       " 0  2  0  0  0  0  1  0  0  0\n",
       " 2  0  0  0  1  0  0  0  0  0\n",
       " 0  0  0  1  0  2  0  0  0  0\n",
       " 0  0  0  0  2  0  1  0  0  0\n",
       " 0  0  1  0  0  1  0  1  0  0\n",
       " 0  0  0  0  0  0  1  0  1  2\n",
       " 0  0  0  0  0  0  0  1  0  0\n",
       " 0  0  0  0  0  0  0  2  0  0"
      ]
     },
     "execution_count": 28,
     "metadata": {},
     "output_type": "execute_result"
    }
   ],
   "source": [
    "m = [0 1 0 2 0 0 0 0 0 0;\n",
    "     1 0 2 0 0 0 0 0 0 0;\n",
    "     0 2 0 0 0 0 1 0 0 0;\n",
    "     2 0 0 0 1 0 0 0 0 0;\n",
    "     0 0 0 1 0 2 0 0 0 0;\n",
    "     0 0 0 0 2 0 1 0 0 0;\n",
    "     0 0 1 0 0 1 0 1 0 0;\n",
    "     0 0 0 0 0 0 1 0 1 2;\n",
    "     0 0 0 0 0 0 0 1 0 0;\n",
    "     0 0 0 0 0 0 0 2 0 0]"
   ]
  },
  {
   "cell_type": "code",
   "execution_count": 67,
   "metadata": {},
   "outputs": [
    {
     "data": {
      "text/plain": [
       "greedy (generic function with 1 method)"
      ]
     },
     "execution_count": 67,
     "metadata": {},
     "output_type": "execute_result"
    }
   ],
   "source": [
    "function greedy(m)\n",
    "    openlist = [1]\n",
    "    closedlist = []\n",
    "    \n",
    "    while length(openlist) > 0\n",
    "        s = pop!(reverse!(openlist))\n",
    "        push!(closedlist, s)\n",
    "        if size(m)[1] == s\n",
    "            break\n",
    "        end\n",
    "        \n",
    "        candidate = [i for i in 1:length(m[s, :]) if m[s, i] != 0]\n",
    "        next = reverse(sort([i for i in 1:length(m[s, :]) if m[s, i] != 0], by=x -> m[s, x]))\n",
    "        for n in next\n",
    "            if n in closedlist\n",
    "                continue\n",
    "            end\n",
    "            push!(openlist, n)\n",
    "        end\n",
    "        reverse!(openlist)\n",
    "    end\n",
    "    closedlist\n",
    "end"
   ]
  },
  {
   "cell_type": "code",
   "execution_count": 68,
   "metadata": {},
   "outputs": [
    {
     "data": {
      "text/plain": [
       "10-element Array{Any,1}:\n",
       "  1\n",
       "  2\n",
       "  3\n",
       "  7\n",
       "  6\n",
       "  5\n",
       "  4\n",
       "  8\n",
       "  9\n",
       " 10"
      ]
     },
     "execution_count": 68,
     "metadata": {},
     "output_type": "execute_result"
    }
   ],
   "source": [
    "greedy(m)"
   ]
  },
  {
   "cell_type": "code",
   "execution_count": null,
   "metadata": {},
   "outputs": [],
   "source": []
  }
 ],
 "metadata": {
  "kernelspec": {
   "display_name": "Julia 1.0.0",
   "language": "julia",
   "name": "julia-1.0"
  },
  "language_info": {
   "file_extension": ".jl",
   "mimetype": "application/julia",
   "name": "julia",
   "version": "1.0.0"
  }
 },
 "nbformat": 4,
 "nbformat_minor": 2
}
