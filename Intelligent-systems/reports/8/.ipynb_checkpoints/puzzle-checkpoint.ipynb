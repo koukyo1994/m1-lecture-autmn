{
 "cells": [
  {
   "cell_type": "markdown",
   "metadata": {},
   "source": [
    "## Libraries"
   ]
  },
  {
   "cell_type": "code",
   "execution_count": 1,
   "metadata": {},
   "outputs": [],
   "source": [
    "import Base: sort, indexin"
   ]
  },
  {
   "cell_type": "markdown",
   "metadata": {},
   "source": [
    "## Define Puzzle "
   ]
  },
  {
   "cell_type": "code",
   "execution_count": 2,
   "metadata": {},
   "outputs": [
    {
     "data": {
      "text/plain": [
       "2×3 Array{Int64,2}:\n",
       " 1  2  3\n",
       " 4  5  0"
      ]
     },
     "execution_count": 2,
     "metadata": {},
     "output_type": "execute_result"
    }
   ],
   "source": [
    "puzzle = [4 3 5;\n",
    "          2 1 0]\n",
    "\n",
    "optimal = [1 2 3;\n",
    "           4 5 0]"
   ]
  },
  {
   "cell_type": "markdown",
   "metadata": {},
   "source": [
    "## Functions "
   ]
  },
  {
   "cell_type": "code",
   "execution_count": 3,
   "metadata": {},
   "outputs": [
    {
     "data": {
      "text/plain": [
       "options (generic function with 1 method)"
      ]
     },
     "execution_count": 3,
     "metadata": {},
     "output_type": "execute_result"
    }
   ],
   "source": [
    "function options(p)\n",
    "    idx = indexin(0, p)[1]\n",
    "    indices = [CartesianIndex(i, j) for (i, j) in [\n",
    "                (idx[1]-1, idx[2]), (idx[1]+1, idx[2]),\n",
    "                (idx[1], idx[2]-1), (idx[1], idx[2]+1)\n",
    "                ]]\n",
    "    indices = [i for i in indices if 0 < i[1] <= size(p)[1] && 0 < i[2] <= size(p)[2]]\n",
    "end"
   ]
  },
  {
   "cell_type": "code",
   "execution_count": 4,
   "metadata": {},
   "outputs": [
    {
     "data": {
      "text/plain": [
       "flip (generic function with 1 method)"
      ]
     },
     "execution_count": 4,
     "metadata": {},
     "output_type": "execute_result"
    }
   ],
   "source": [
    "function flip(p, idx)\n",
    "    zeropos = indexin(0, p)[1]\n",
    "    p[zeropos], p[idx] = p[idx], p[zeropos]\n",
    "    p\n",
    "end"
   ]
  },
  {
   "cell_type": "code",
   "execution_count": 5,
   "metadata": {},
   "outputs": [
    {
     "data": {
      "text/plain": [
       "number_of_misplace (generic function with 1 method)"
      ]
     },
     "execution_count": 5,
     "metadata": {},
     "output_type": "execute_result"
    }
   ],
   "source": [
    "function number_of_misplace(p, o)\n",
    "    sum(sign.(abs.(p - o)))\n",
    "end"
   ]
  },
  {
   "cell_type": "code",
   "execution_count": 6,
   "metadata": {},
   "outputs": [
    {
     "data": {
      "text/plain": [
       "manhattan (generic function with 1 method)"
      ]
     },
     "execution_count": 6,
     "metadata": {},
     "output_type": "execute_result"
    }
   ],
   "source": [
    "function manhattan(p, o)\n",
    "    distance = 0\n",
    "    for i in 1:maximum(p)\n",
    "        idxp = indexin(i, p)[1]\n",
    "        idxo = indexin(i, o)[1]\n",
    "        cartesian_diff = idxp - idxo\n",
    "        distance += abs(cartesian_diff[1]) + abs(cartesian_diff[2])\n",
    "    end\n",
    "    distance\n",
    "end"
   ]
  },
  {
   "cell_type": "code",
   "execution_count": 7,
   "metadata": {},
   "outputs": [],
   "source": [
    "mutable struct State\n",
    "    state::Array{Int64, 2}\n",
    "    before::Array{Int64, 2}\n",
    "    min_cost::Int64\n",
    "    heuristic::Int64\n",
    "end"
   ]
  },
  {
   "cell_type": "code",
   "execution_count": 8,
   "metadata": {},
   "outputs": [
    {
     "data": {
      "text/plain": [
       "sort (generic function with 6 methods)"
      ]
     },
     "execution_count": 8,
     "metadata": {},
     "output_type": "execute_result"
    }
   ],
   "source": [
    "function sort(a::Array{State, 1})\n",
    "    costs = [s.min_cost + s.heuristic for s in a]\n",
    "    a[sortperm(costs)]\n",
    "end"
   ]
  },
  {
   "cell_type": "code",
   "execution_count": 9,
   "metadata": {},
   "outputs": [
    {
     "data": {
      "text/plain": [
       "indexin (generic function with 2 methods)"
      ]
     },
     "execution_count": 9,
     "metadata": {},
     "output_type": "execute_result"
    }
   ],
   "source": [
    "function indexin(elem::Array{Int64, 2}, arr::Array{Array{Int64, 2}, 1})\n",
    "    [i for i in 1:length(arr) if arr[i] == elem][1]\n",
    "end"
   ]
  },
  {
   "cell_type": "code",
   "execution_count": 12,
   "metadata": {},
   "outputs": [
    {
     "data": {
      "text/plain": [
       "astar (generic function with 1 method)"
      ]
     },
     "execution_count": 12,
     "metadata": {},
     "output_type": "execute_result"
    }
   ],
   "source": [
    "function astar(p, o, f)\n",
    "    pendinglist = [State(copy(p), copy(p), 0, f(p, o))]\n",
    "    visitedlist = []\n",
    "    closedlist = []\n",
    "    while true\n",
    "        pendinglist = sort(pendinglist)\n",
    "        next = popfirst!(pendinglist)\n",
    "        visited_state = [s.state for s in visitedlist]\n",
    "        if !(next.state in visited_state)\n",
    "            push!(visitedlist, next)\n",
    "        end\n",
    "        next_option = options(next.state)\n",
    "        next_p = [flip(copy(next.state), i) for i in next_option]\n",
    "        next_state = [State(np, copy(next.state), next.min_cost+1, f(np, o)) for np in next_p]\n",
    "        if o in next_p\n",
    "            push!(visitedlist, State(o, copy(next.state), next.min_cost+1, f(o, o)))\n",
    "            break\n",
    "        end\n",
    "        \n",
    "        pending_state = [s.state for s in pendinglist]\n",
    "        for ns in next_state\n",
    "            if !(ns.state in pending_state)\n",
    "                push!(pendinglist, ns) \n",
    "            end\n",
    "        end\n",
    "    end\n",
    "    visited_state = [s.state for s in visitedlist]\n",
    "    current = o\n",
    "    while true\n",
    "        idxcurrent = indexin(current, visited_state)\n",
    "        push!(closedlist, visitedlist[idxcurrent])\n",
    "        if current == p\n",
    "            break\n",
    "        end\n",
    "        before = visitedlist[idxcurrent].before\n",
    "        idxbefore = indexin(before, visited_state)\n",
    "        current = visitedlist[idxbefore].state\n",
    "    end\n",
    "    reverse(closedlist)\n",
    "end"
   ]
  },
  {
   "cell_type": "code",
   "execution_count": 14,
   "metadata": {},
   "outputs": [
    {
     "data": {
      "text/plain": [
       "9-element Array{Any,1}:\n",
       " State([4 3 5; 2 1 0], [4 3 5; 2 1 0], 0, 5)\n",
       " State([4 3 0; 2 1 5], [4 3 5; 2 1 0], 1, 6)\n",
       " State([4 0 3; 2 1 5], [4 3 0; 2 1 5], 2, 5)\n",
       " State([4 1 3; 2 0 5], [4 0 3; 2 1 5], 3, 5)\n",
       " State([4 1 3; 0 2 5], [4 1 3; 2 0 5], 4, 5)\n",
       " State([0 1 3; 4 2 5], [4 1 3; 0 2 5], 5, 4)\n",
       " State([1 0 3; 4 2 5], [0 1 3; 4 2 5], 6, 3)\n",
       " State([1 2 3; 4 0 5], [1 0 3; 4 2 5], 7, 2)\n",
       " State([1 2 3; 4 5 0], [1 2 3; 4 0 5], 8, 0)"
      ]
     },
     "execution_count": 14,
     "metadata": {},
     "output_type": "execute_result"
    }
   ],
   "source": [
    "astar(puzzle, optimal, number_of_misplace)"
   ]
  },
  {
   "cell_type": "code",
   "execution_count": null,
   "metadata": {},
   "outputs": [],
   "source": []
  }
 ],
 "metadata": {
  "kernelspec": {
   "display_name": "Julia 1.0.0",
   "language": "julia",
   "name": "julia-1.0"
  },
  "language_info": {
   "file_extension": ".jl",
   "mimetype": "application/julia",
   "name": "julia",
   "version": "1.0.0"
  }
 },
 "nbformat": 4,
 "nbformat_minor": 2
}
