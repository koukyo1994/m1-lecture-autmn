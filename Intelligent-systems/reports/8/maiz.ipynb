{
 "cells": [
  {
   "cell_type": "markdown",
   "metadata": {},
   "source": [
    "## importing"
   ]
  },
  {
   "cell_type": "code",
   "execution_count": 99,
   "metadata": {},
   "outputs": [],
   "source": [
    "import Base: sort"
   ]
  },
  {
   "cell_type": "markdown",
   "metadata": {},
   "source": [
    "## Define Maiz "
   ]
  },
  {
   "cell_type": "code",
   "execution_count": 28,
   "metadata": {},
   "outputs": [
    {
     "data": {
      "text/plain": [
       "10×10 Array{Int64,2}:\n",
       " 0  1  0  2  0  0  0  0  0  0\n",
       " 1  0  2  0  0  0  0  0  0  0\n",
       " 0  2  0  0  0  0  1  0  0  0\n",
       " 2  0  0  0  1  0  0  0  0  0\n",
       " 0  0  0  1  0  2  0  0  0  0\n",
       " 0  0  0  0  2  0  1  0  0  0\n",
       " 0  0  1  0  0  1  0  1  0  0\n",
       " 0  0  0  0  0  0  1  0  1  2\n",
       " 0  0  0  0  0  0  0  1  0  0\n",
       " 0  0  0  0  0  0  0  2  0  0"
      ]
     },
     "execution_count": 28,
     "metadata": {},
     "output_type": "execute_result"
    }
   ],
   "source": [
    "m = [0 1 0 2 0 0 0 0 0 0;\n",
    "     1 0 2 0 0 0 0 0 0 0;\n",
    "     0 2 0 0 0 0 1 0 0 0;\n",
    "     2 0 0 0 1 0 0 0 0 0;\n",
    "     0 0 0 1 0 2 0 0 0 0;\n",
    "     0 0 0 0 2 0 1 0 0 0;\n",
    "     0 0 1 0 0 1 0 1 0 0;\n",
    "     0 0 0 0 0 0 1 0 1 2;\n",
    "     0 0 0 0 0 0 0 1 0 0;\n",
    "     0 0 0 0 0 0 0 2 0 0]"
   ]
  },
  {
   "cell_type": "code",
   "execution_count": 245,
   "metadata": {},
   "outputs": [],
   "source": [
    "mutable struct edge\n",
    "    from::Int64\n",
    "    to::Int64\n",
    "    cost::Int64\n",
    "end"
   ]
  },
  {
   "cell_type": "code",
   "execution_count": 248,
   "metadata": {},
   "outputs": [
    {
     "data": {
      "text/plain": [
       "greedy (generic function with 1 method)"
      ]
     },
     "execution_count": 248,
     "metadata": {},
     "output_type": "execute_result"
    }
   ],
   "source": [
    "function greedy(m)\n",
    "    openlist = [edge(1, 1, 0)]\n",
    "    closedlist = []\n",
    "    totalcost = 0\n",
    "    while length(openlist) > 0\n",
    "        s = pop!(openlist)\n",
    "        push!(closedlist, s)\n",
    "        totalcost += s.cost\n",
    "        if size(m)[1] == s.to\n",
    "            break\n",
    "        end\n",
    "        candidate = [i for i in 1:length(m[s.to, :]) if m[s.to, i] != 0]\n",
    "        next = reverse(sort(candidate, by=x -> m[s.to, x]))\n",
    "        closed_from = [n.from for n in closedlist]\n",
    "        for n in next\n",
    "            if n in closed_from\n",
    "                continue\n",
    "            end\n",
    "            push!(openlist, edge(s.to, n, m[s.to, n]))\n",
    "        end\n",
    "    end\n",
    "    closedlist, totalcost\n",
    "end"
   ]
  },
  {
   "cell_type": "code",
   "execution_count": 249,
   "metadata": {},
   "outputs": [
    {
     "data": {
      "text/plain": [
       "(Any[edge(1, 1, 0), edge(1, 2, 1), edge(2, 3, 2), edge(3, 7, 1), edge(7, 6, 1), edge(6, 5, 2), edge(5, 4, 1), edge(7, 8, 1), edge(8, 9, 1), edge(8, 10, 2)], 12)"
      ]
     },
     "execution_count": 249,
     "metadata": {},
     "output_type": "execute_result"
    }
   ],
   "source": [
    "greedy(m)"
   ]
  },
  {
   "cell_type": "code",
   "execution_count": 73,
   "metadata": {},
   "outputs": [],
   "source": [
    "mutable struct node\n",
    "    id::Int64\n",
    "    min_cost::Int64\n",
    "    from::Int64\n",
    "end"
   ]
  },
  {
   "cell_type": "code",
   "execution_count": 171,
   "metadata": {},
   "outputs": [
    {
     "data": {
      "text/plain": [
       "sort (generic function with 7 methods)"
      ]
     },
     "execution_count": 171,
     "metadata": {},
     "output_type": "execute_result"
    }
   ],
   "source": [
    "function sort(a::Array{node, 1})\n",
    "    costs = [n.min_cost for n in a]\n",
    "    idx = sortperm(costs)\n",
    "    a = a[idx]\n",
    "end"
   ]
  },
  {
   "cell_type": "code",
   "execution_count": 250,
   "metadata": {},
   "outputs": [
    {
     "data": {
      "text/plain": [
       "dijkstra (generic function with 1 method)"
      ]
     },
     "execution_count": 250,
     "metadata": {},
     "output_type": "execute_result"
    }
   ],
   "source": [
    "function dijkstra(m)\n",
    "    initnode = node(1, 0, 1)\n",
    "    pendinglist = [initnode]\n",
    "    allnodes = []\n",
    "    closedlist = []\n",
    "    while true\n",
    "        pending_id = [n.id for n in pendinglist]\n",
    "        if size(m)[1] in pending_id\n",
    "            break\n",
    "        end\n",
    "\n",
    "        pendinglist = sort(pendinglist)\n",
    "        s = popfirst!(pendinglist)\n",
    "        all_id = [n.id for n in allnodes]\n",
    "        if !(s.id in all_id)\n",
    "            push!(allnodes, s)\n",
    "        end\n",
    "        idx = s.id\n",
    "        root = m[idx, :]\n",
    "        candidate_idx = [i for i in 1:length(root) if root[i] != 0]\n",
    "        pending_id = [n.id for n in pendinglist]\n",
    "        for i in candidate_idx\n",
    "            cost = s.min_cost + root[i]\n",
    "            if i in pending_id\n",
    "                pending_idx = indexin(i, pending_id)[1]\n",
    "                if cost < (pendinglist[pending_idx].min_cost)\n",
    "                    pendinglist[pending_idx].min_cost = cost\n",
    "                    pendinglist[pending_idx].from = idx\n",
    "                end\n",
    "                continue\n",
    "            end\n",
    "            push!(pendinglist, node(i, cost, idx))\n",
    "        end\n",
    "    end\n",
    "    \n",
    "    pending_id = [n.id for n in pendinglist]\n",
    "    all_id = [n.id for n in allnodes]\n",
    "    poslast = indexin(size(m)[1], pending_id)[1]\n",
    "    current = pendinglist[poslast]\n",
    "    push!(closedlist, current)\n",
    "    println(allnodes)\n",
    "    while true\n",
    "        if current.from == 1\n",
    "            push!(closedlist, initnode)\n",
    "            break\n",
    "        end\n",
    "        \n",
    "        pos = indexin(current.from, all_id)[1]\n",
    "        push!(closedlist, allnodes[pos])\n",
    "        current = allnodes[pos]\n",
    "    end\n",
    "    sort(closedlist)\n",
    "end"
   ]
  },
  {
   "cell_type": "code",
   "execution_count": 251,
   "metadata": {},
   "outputs": [
    {
     "name": "stdout",
     "output_type": "stream",
     "text": [
      "Any[node(1, 0, 1), node(2, 1, 1), node(4, 2, 1), node(3, 3, 2), node(5, 3, 4), node(7, 4, 3), node(6, 5, 5), node(8, 5, 7)]\n"
     ]
    },
    {
     "data": {
      "text/plain": [
       "6-element Array{Any,1}:\n",
       " node(1, 0, 1) \n",
       " node(2, 1, 1) \n",
       " node(3, 3, 2) \n",
       " node(7, 4, 3) \n",
       " node(8, 5, 7) \n",
       " node(10, 7, 8)"
      ]
     },
     "execution_count": 251,
     "metadata": {},
     "output_type": "execute_result"
    }
   ],
   "source": [
    "dijkstra(m)"
   ]
  },
  {
   "cell_type": "code",
   "execution_count": null,
   "metadata": {},
   "outputs": [],
   "source": []
  }
 ],
 "metadata": {
  "kernelspec": {
   "display_name": "Julia 1.0.0",
   "language": "julia",
   "name": "julia-1.0"
  },
  "language_info": {
   "file_extension": ".jl",
   "mimetype": "application/julia",
   "name": "julia",
   "version": "1.0.0"
  }
 },
 "nbformat": 4,
 "nbformat_minor": 2
}
